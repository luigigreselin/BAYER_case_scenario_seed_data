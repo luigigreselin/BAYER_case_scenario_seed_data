{
  "nbformat": 4,
  "nbformat_minor": 0,
  "metadata": {
    "colab": {
      "name": "BAYER_Problem.ipynb",
      "provenance": [],
      "collapsed_sections": []
    },
    "kernelspec": {
      "name": "python3",
      "display_name": "Python 3"
    },
    "language_info": {
      "name": "python"
    }
  },
  "cells": [
    {
      "cell_type": "code",
      "metadata": {
        "id": "VUEqHdKPGZpk"
      },
      "source": [
        "# import some useful packages\n",
        "import matplotlib as plt\n",
        "import numpy as np\n",
        "import pandas as pd\n",
        "import matplotlib.pyplot as plt\n",
        "from numpy.random import randint\n",
        "from numpy.random import seed\n",
        "import seaborn as sns"
      ],
      "execution_count": null,
      "outputs": []
    },
    {
      "cell_type": "markdown",
      "metadata": {
        "id": "39LQkHAzt8lD"
      },
      "source": [
        "# **Problem presentation**\n",
        "I considered that missing data causes lack of traceability and incompatibility between different countries, while too many data is just an unnecessary effor. The situation can be easily modelled with a barplot, with on the x axis the countries and on the y axis the amount of data collected/time spent for the data collection"
      ]
    },
    {
      "cell_type": "code",
      "metadata": {
        "id": "uGe6Aau88ufF"
      },
      "source": [
        "# start situation, just to give the idea on how I modelled the problem (values are given randomly)\n",
        "value = randint(2,10,5)\n",
        "hypothetical_country = pd.Series(['country_X', 'country_Y', 'country_J' ,'country_W', 'country_Z'])\n",
        "df = pd.concat([pd.Series(value), hypothetical_country], 1) "
      ],
      "execution_count": null,
      "outputs": []
    },
    {
      "cell_type": "code",
      "metadata": {
        "colab": {
          "base_uri": "https://localhost:8080/",
          "height": 299
        },
        "id": "shsqgWWj82k7",
        "outputId": "266da95b-be97-41a8-d22e-4de0cea0c43a"
      },
      "source": [
        "# graph for the begin situation, countries and values  are given randomly\n",
        "optimal = 6\n",
        "graph = sns.barplot(x = hypothetical_country, y = value)\n",
        "graph.axhline(min(value), color='r', linestyle='dotted', label=\"constraints\") # this line is the benchmark of the country with the lowest amount of data collected, that will decrease the value of the overall analysis\n",
        "graph.axhline(optimal, color='r', linestyle='-', label=\"optimal\") # this line represents the optimal situation. Values above mean too much work, values below means that work has to be done\n",
        "graph.set(xlabel = '', ylabel='time spent in data collection',\n",
        "       title='Hypothetical General Situation')\n",
        "graph.axes.yaxis.set_visible(False)\n",
        "labels = [\"constraints\", 'optimal']\n",
        "handles, _ = graph.get_legend_handles_labels()\n",
        "\n",
        "graph.legend(handles = handles, labels = labels)\n",
        "plt.show"
      ],
      "execution_count": null,
      "outputs": [
        {
          "output_type": "execute_result",
          "data": {
            "text/plain": [
              "<function matplotlib.pyplot.show>"
            ]
          },
          "metadata": {
            "tags": []
          },
          "execution_count": 105
        },
        {
          "output_type": "display_data",
          "data": {
            "image/png": "[encoded data removed]",
            "text/plain": [
              "<Figure size 432x288 with 1 Axes>"
            ]
          },
          "metadata": {
            "tags": [],
            "needs_background": "light"
          }
        }
      ]
    },
    {
      "cell_type": "code",
      "metadata": {
        "colab": {
          "base_uri": "https://localhost:8080/"
        },
        "id": "cnXIH9Xt9fpM",
        "outputId": "4b2e440e-ffd8-4c05-aad6-e1d8c1e59a50"
      },
      "source": [
        "#by taking the difference with hte optimal we can calculate the dat/time  that still need to be collected/ still be spent\n",
        "time_to_be_spent = sum(value - min(value)) \n",
        "countries__missing_data = df[df.loc[:,0] < optimal ][1]\n",
        "print('the actual time or data that has to be invested/collected is still ', time_to_be_spent, 'days (or whichever unit you want to give).' )\n",
        "print('hereby the names of the countries that need to improve: ', *df[df.loc[:,0] < optimal ][1])"
      ],
      "execution_count": null,
      "outputs": [
        {
          "output_type": "stream",
          "text": [
            "the actual time or data that has to be invested/collected is still  16 days. \n",
            "hereby the names of the countries that need to improve:  country_X country_W\n"
          ],
          "name": "stdout"
        }
      ]
    },
    {
      "cell_type": "markdown",
      "metadata": {
        "id": "zr5ul1Jes5tz"
      },
      "source": [
        "# **Analysis variable by variable**\n",
        "## Here I start the analysis of the three variables that I consider important:\n",
        "1. Min Batch Size (50 k seeds disregarding which species is too much, it must be variable)\n",
        "1. Scoring Stage (I couldn't find a definition on [ISTA](https://www.seedtest.org/upload/cms/user/s4_ISTA_Rules_2021_02_sampling.pdf) but I believe that assessing the cotyledons should be sufficient, as almost all the plants with well developed cotyledons develop leaves. I even believe that waiting till leaves creates some interaction between seedlings that is not wanted in the analysis\n",
        "1. Stored Results. For a correct and easy going analysis all data has to be stored in the same way, as easy as possible -> if the majority is excel I would keep it\n",
        "\n",
        "I did not consider the other three variables (*testing period previous to sowing*, *local results scored by* and *local results recorded by*) because:\n",
        "1. I could not find relevant info on the role of *testing period previous to sowing* apart for seed stratification.\n",
        "1.*local results recorded by* is always made by Bayer (so should be trustable, and it is a pretty important stage of the process).\n",
        "1. *local results scored by* is in between Bayer and the growers. I believe that a grower could be easily trained to fullfill the task, but it can be debated ( I am open to discuss and learn)."
      ]
    },
    {
      "cell_type": "markdown",
      "metadata": {
        "id": "J1eng6Vbzlg7"
      },
      "source": [
        "## 1. Min batch size"
      ]
    },
    {
      "cell_type": "code",
      "metadata": {
        "id": "22-5Kp9aWAmu"
      },
      "source": [
        "#short analysis for MIN BATCH SIZE\n",
        "\n",
        "value = pd.Series([9,3,4,4,4,9,6,6,6,6,9,9,8,8,8])\n",
        "country = pd.Series(['country_A', 'country_B', 'country_C' ,'country_D', 'country_E'])\n",
        "df = pd.concat([value, pd.concat([country]*3, ignore_index=True)], 1)  # to be improved the readibility, however here I created the two columns\n"
      ],
      "execution_count": null,
      "outputs": []
    },
    {
      "cell_type": "code",
      "metadata": {
        "colab": {
          "base_uri": "https://localhost:8080/",
          "height": 299
        },
        "id": "kMcaylmXQ56Q",
        "outputId": "50f4b896-954e-4652-9d71-a154bdf9d8a9"
      },
      "source": [
        "#here I plot the MIN BATCH SIZE\n",
        "\n",
        "optimal = 6 # optimal is 'variable' assuming that for each crop the optimal n.seeds is chosen\n",
        "\n",
        "graph = sns.barplot(x = df.iloc[:,1], y = df.iloc[:,0], capsize=.2)\n",
        "# capsize represents the uncertainty I have. Country B has larger bars has NA is less trustable than 'variable' for the other 3 following countries\n",
        "\n",
        "\n",
        "graph.axhline(optimal, color='r', linestyle='-', label=\"optimal\")\n",
        "graph.set(xlabel = '', ylabel='',\n",
        "       title='Min. batch size')\n",
        "graph.axes.yaxis.set_visible(False)\n",
        "labels = [\"optimal\"]\n",
        "handles, _ = graph.get_legend_handles_labels()\n",
        "\n",
        "graph.legend(handles = handles, labels = labels)\n",
        "plt.show"
      ],
      "execution_count": null,
      "outputs": [
        {
          "output_type": "execute_result",
          "data": {
            "text/plain": [
              "<function matplotlib.pyplot.show>"
            ]
          },
          "metadata": {
            "tags": []
          },
          "execution_count": 77
        },
        {
          "output_type": "display_data",
          "data": {
            "image/png": "[encoded data removed]",
            "text/plain": [
              "<Figure size 432x288 with 1 Axes>"
            ]
          },
          "metadata": {
            "tags": [],
            "needs_background": "light"
          }
        }
      ]
    },
    {
      "cell_type": "code",
      "metadata": {
        "colab": {
          "base_uri": "https://localhost:8080/",
          "height": 299
        },
        "id": "T6wsiaggS-lG",
        "outputId": "c9431035-b5be-4cbf-c42a-2d119892faed"
      },
      "source": [
        "# I subtract the optimal to each column to get the idea of who works too much and who works too little (MIN BATCH SIZE)\n",
        "graph = sns.barplot(x = df.iloc[:,1], y = df.iloc[:,0] - optimal, capsize=.2)\n",
        "\n",
        "graph.axhline(0, color='r', linestyle='-', label=\"optimal\")\n",
        "graph.set( ylabel='', xlabel='',\n",
        "       title='Min Batch Size')\n",
        "#graph.axes.yaxis.set_visible(False)\n",
        "\n",
        "labels = [\"optimal\"]\n",
        "handles, _ = graph.get_legend_handles_labels()\n",
        "\n",
        "graph.legend(handles = handles, labels = labels)\n",
        "plt.show"
      ],
      "execution_count": null,
      "outputs": [
        {
          "output_type": "execute_result",
          "data": {
            "text/plain": [
              "<function matplotlib.pyplot.show>"
            ]
          },
          "metadata": {
            "tags": []
          },
          "execution_count": 78
        },
        {
          "output_type": "display_data",
          "data": {
            "image/png": "[encoded data removed]",
            "text/plain": [
              "<Figure size 432x288 with 1 Axes>"
            ]
          },
          "metadata": {
            "tags": [],
            "needs_background": "light"
          }
        }
      ]
    },
    {
      "cell_type": "markdown",
      "metadata": {
        "id": "jJBcVigYz2ja"
      },
      "source": [
        "### 2. Scoring stage"
      ]
    },
    {
      "cell_type": "code",
      "metadata": {
        "id": "Q46RUhJRz3nB"
      },
      "source": [
        "#short analysis for SCORING STAGE\n",
        "\n",
        "value = pd.Series([6,7,7,6,6])\n",
        "country = pd.Series(['country_A', 'country_B', 'country_C' ,'country_D', 'country_E'])\n",
        "df = pd.concat([value,country], 1)  "
      ],
      "execution_count": null,
      "outputs": []
    },
    {
      "cell_type": "code",
      "metadata": {
        "colab": {
          "base_uri": "https://localhost:8080/",
          "height": 299
        },
        "id": "IF_08z5o0YlC",
        "outputId": "3c09ddc3-919a-464e-d078-68a9ac6eff52"
      },
      "source": [
        "#here I plot the SCORING STAGE\n",
        "\n",
        "optimal = 6 # optimal is visible true leaves according to ISTA\n",
        "graph = sns.barplot(x = df.iloc[:,1], y = df.iloc[:,0], capsize=.2)\n",
        "#graph.axhline(6, color='r', linestyle='dotted', label=\"constraints\")\n",
        "graph.axhline(optimal, color='r', linestyle='-', label=\"optimal\")\n",
        "graph.set(xlabel = '', ylabel='',\n",
        "       title='Scoring stage')\n",
        "graph.axes.yaxis.set_visible(False)\n",
        "labels = [\"optimal\"]\n",
        "handles, _ = graph.get_legend_handles_labels()\n",
        "\n",
        "graph.legend(handles = handles, labels = labels)\n",
        "plt.show"
      ],
      "execution_count": null,
      "outputs": [
        {
          "output_type": "execute_result",
          "data": {
            "text/plain": [
              "<function matplotlib.pyplot.show>"
            ]
          },
          "metadata": {
            "tags": []
          },
          "execution_count": 84
        },
        {
          "output_type": "display_data",
          "data": {
            "image/png": "[encoded data removed]",
            "text/plain": [
              "<Figure size 432x288 with 1 Axes>"
            ]
          },
          "metadata": {
            "tags": [],
            "needs_background": "light"
          }
        }
      ]
    },
    {
      "cell_type": "code",
      "metadata": {
        "colab": {
          "base_uri": "https://localhost:8080/",
          "height": 299
        },
        "id": "9ljtehAD0nQy",
        "outputId": "d35ae848-d0ba-4a6e-d474-814d78e8e1b3"
      },
      "source": [
        "# I subtract the optimal to each column to get the idea of who works too much and who works too little (SCORING STAGE)\n",
        "graph = sns.barplot(x = df.iloc[:,1], y = df.iloc[:,0] - optimal)\n",
        "\n",
        "graph.axhline(0, color='r', linestyle='-', label=\"optimal\")\n",
        "graph.set( ylabel='', xlabel='',\n",
        "       title='Scoring stage')\n",
        "#graph.axes.yaxis.set_visible(False)\n",
        "plt.ylim(-1,2) \n",
        "\n",
        "labels = [\"optimal\"]\n",
        "handles, _ = graph.get_legend_handles_labels()\n",
        "\n",
        "graph.legend(handles = handles, labels = labels)\n",
        "plt.show"
      ],
      "execution_count": null,
      "outputs": [
        {
          "output_type": "execute_result",
          "data": {
            "text/plain": [
              "<function matplotlib.pyplot.show>"
            ]
          },
          "metadata": {
            "tags": []
          },
          "execution_count": 86
        },
        {
          "output_type": "display_data",
          "data": {
            "image/png": "[encoded data removed]",
            "text/plain": [
              "<Figure size 432x288 with 1 Axes>"
            ]
          },
          "metadata": {
            "tags": [],
            "needs_background": "light"
          }
        }
      ]
    },
    {
      "cell_type": "markdown",
      "metadata": {
        "id": "88rLG5z26PeB"
      },
      "source": [
        "## 3. Results stored"
      ]
    },
    {
      "cell_type": "code",
      "metadata": {
        "id": "KmANCL_y6Tdx"
      },
      "source": [
        "#short analysis for RESULTS STORED\n",
        "\n",
        "value = pd.Series([6,6,4,4,4,6,6,4,6,4,6,6,4,4,4])\n",
        "country = pd.Series(['country_A', 'country_B', 'country_C' ,'country_D', 'country_E'])\n",
        "df = pd.concat([value, pd.concat([country]*3, ignore_index=True)], 1)  # to be improved the readibility, however here I created the two columns"
      ],
      "execution_count": null,
      "outputs": []
    },
    {
      "cell_type": "code",
      "metadata": {
        "colab": {
          "base_uri": "https://localhost:8080/",
          "height": 299
        },
        "id": "Hb9Vp0YP6ajT",
        "outputId": "5f39710b-ad3c-4977-9fe8-98905a627faf"
      },
      "source": [
        "#here I plot the RESULTS STORED\n",
        "\n",
        "optimal = 6 # optimal is visible true leaves according to ISTA\n",
        "graph = sns.barplot(x = df.iloc[:,1], y = df.iloc[:,0], capsize=.2)\n",
        "#graph.axhline(6, color='r', linestyle='dotted', label=\"constraints\")\n",
        "graph.axhline(optimal, color='r', linestyle='-', label=\"optimal\")\n",
        "graph.set(xlabel = '', ylabel='',\n",
        "       title='Results Stored')\n",
        "graph.axes.yaxis.set_visible(False)\n",
        "labels = [\"optimal\"]\n",
        "handles, _ = graph.get_legend_handles_labels()\n",
        "\n",
        "graph.legend(handles = handles, labels = labels)\n",
        "plt.show"
      ],
      "execution_count": null,
      "outputs": [
        {
          "output_type": "execute_result",
          "data": {
            "text/plain": [
              "<function matplotlib.pyplot.show>"
            ]
          },
          "metadata": {
            "tags": []
          },
          "execution_count": 100
        },
        {
          "output_type": "display_data",
          "data": {
            "image/png": "[encoded data removed]",
            "text/plain": [
              "<Figure size 432x288 with 1 Axes>"
            ]
          },
          "metadata": {
            "tags": [],
            "needs_background": "light"
          }
        }
      ]
    },
    {
      "cell_type": "code",
      "metadata": {
        "colab": {
          "base_uri": "https://localhost:8080/",
          "height": 299
        },
        "id": "cKqpRV1M6b4a",
        "outputId": "e6ba130b-e1b0-480d-9982-7b7bd9c7bc19"
      },
      "source": [
        "# I subtract the optimal to each column to get the idea of who works too much and who works too little (RESULTS STORED)\n",
        "graph = sns.barplot(x = df.iloc[:,1], y = df.iloc[:,0] - optimal, capsize=.2)\n",
        "\n",
        "graph.axhline(0, color='r', linestyle='-', label=\"optimal\")\n",
        "graph.set( ylabel='', xlabel='',\n",
        "       title='Results stored')\n",
        "#graph.axes.yaxis.set_visible(False)\n",
        "plt.ylim(-2.5,0.5) \n",
        "\n",
        "labels = [\"optimal\"]\n",
        "handles, _ = graph.get_legend_handles_labels()\n",
        "\n",
        "graph.legend(handles = handles, labels = labels)\n",
        "plt.show"
      ],
      "execution_count": null,
      "outputs": [
        {
          "output_type": "execute_result",
          "data": {
            "text/plain": [
              "<function matplotlib.pyplot.show>"
            ]
          },
          "metadata": {
            "tags": []
          },
          "execution_count": 102
        },
        {
          "output_type": "display_data",
          "data": {
            "image/png": "[encoded data removed]",
            "text/plain": [
              "<Figure size 432x288 with 1 Axes>"
            ]
          },
          "metadata": {
            "tags": [],
            "needs_background": "light"
          }
        }
      ]
    },
    {
      "cell_type": "markdown",
      "metadata": {
        "id": "Bc1yAZoAAiaj"
      },
      "source": [
        "# **Final Remarks**\n",
        "## Engaging stakeholders, culture of Inform - Consult - Collaborate:\n",
        "1. train the growers to score according to the standards proposed by Bayer (save moomey in respect to the presence of Bayer employees on the field)\n",
        "2. involve for a montly or bimonthly meeting the sales and market development teems. Make extra clear the expectations and responsabilities\n",
        "1. Organize meeting between local sales and labs to homogenize data (in order to make them comparable on a statistical point of view"
      ]
    }
  ]
}